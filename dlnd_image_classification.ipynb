{
 "cells": [
  {
   "cell_type": "markdown",
   "metadata": {
    "collapsed": true
   },
   "source": [
    "# Image Classification\n",
    "In this project, you'll classify images from the [CIFAR-10 dataset](https://www.cs.toronto.edu/~kriz/cifar.html).  The dataset consists of airplanes, dogs, cats, and other objects. You'll preprocess the images, then train a convolutional neural network on all the samples. The images need to be normalized and the labels need to be one-hot encoded.  You'll get to apply what you learned and build a convolutional, max pooling, dropout, and fully connected layers.  At the end, you'll get to see your neural network's predictions on the sample images.\n",
    "## Get the Data\n",
    "Run the following cell to download the [CIFAR-10 dataset for python](https://www.cs.toronto.edu/~kriz/cifar-10-python.tar.gz)."
   ]
  },
  {
   "cell_type": "code",
   "execution_count": 1,
   "metadata": {},
   "outputs": [
    {
     "name": "stdout",
     "output_type": "stream",
     "text": [
      "All files found!\n"
     ]
    }
   ],
   "source": [
    "\"\"\"\n",
    "DON'T MODIFY ANYTHING IN THIS CELL THAT IS BELOW THIS LINE\n",
    "\"\"\"\n",
    "from urllib.request import urlretrieve\n",
    "from os.path import isfile, isdir\n",
    "from tqdm import tqdm\n",
    "import problem_unittests as tests\n",
    "import tarfile\n",
    "\n",
    "cifar10_dataset_folder_path = 'cifar-10-batches-py'\n",
    "\n",
    "# Use Floyd's cifar-10 dataset if present\n",
    "floyd_cifar10_location = '/input/cifar-10/python.tar.gz'\n",
    "if isfile(floyd_cifar10_location):\n",
    "    tar_gz_path = floyd_cifar10_location\n",
    "else:\n",
    "    tar_gz_path = 'cifar-10-python.tar.gz'\n",
    "\n",
    "class DLProgress(tqdm):\n",
    "    last_block = 0\n",
    "\n",
    "    def hook(self, block_num=1, block_size=1, total_size=None):\n",
    "        self.total = total_size\n",
    "        self.update((block_num - self.last_block) * block_size)\n",
    "        self.last_block = block_num\n",
    "\n",
    "if not isfile(tar_gz_path):\n",
    "    with DLProgress(unit='B', unit_scale=True, miniters=1, desc='CIFAR-10 Dataset') as pbar:\n",
    "        urlretrieve(\n",
    "            'https://www.cs.toronto.edu/~kriz/cifar-10-python.tar.gz',\n",
    "            tar_gz_path,\n",
    "            pbar.hook)\n",
    "\n",
    "if not isdir(cifar10_dataset_folder_path):\n",
    "    with tarfile.open(tar_gz_path) as tar:\n",
    "        tar.extractall()\n",
    "        tar.close()\n",
    "\n",
    "\n",
    "tests.test_folder_path(cifar10_dataset_folder_path)"
   ]
  },
  {
   "cell_type": "markdown",
   "metadata": {},
   "source": [
    "## Explore the Data\n",
    "The dataset is broken into batches to prevent your machine from running out of memory.  The CIFAR-10 dataset consists of 5 batches, named `data_batch_1`, `data_batch_2`, etc.. Each batch contains the labels and images that are one of the following:\n",
    "* airplane\n",
    "* automobile\n",
    "* bird\n",
    "* cat\n",
    "* deer\n",
    "* dog\n",
    "* frog\n",
    "* horse\n",
    "* ship\n",
    "* truck\n",
    "\n",
    "Understanding a dataset is part of making predictions on the data.  Play around with the code cell below by changing the `batch_id` and `sample_id`. The `batch_id` is the id for a batch (1-5). The `sample_id` is the id for a image and label pair in the batch.\n",
    "\n",
    "Ask yourself \"What are all possible labels?\", \"What is the range of values for the image data?\", \"Are the labels in order or random?\".  Answers to questions like these will help you preprocess the data and end up with better predictions."
   ]
  },
  {
   "cell_type": "code",
   "execution_count": 2,
   "metadata": {},
   "outputs": [
    {
     "name": "stdout",
     "output_type": "stream",
     "text": [
      "\n",
      "Stats of batch 1:\n",
      "Samples: 10000\n",
      "Label Counts: {0: 1005, 1: 974, 2: 1032, 3: 1016, 4: 999, 5: 937, 6: 1030, 7: 1001, 8: 1025, 9: 981}\n",
      "First 20 Labels: [6, 9, 9, 4, 1, 1, 2, 7, 8, 3, 4, 7, 7, 2, 9, 9, 9, 3, 2, 6]\n",
      "\n",
      "Example of Image 5:\n",
      "Image - Min Value: 0 Max Value: 252\n",
      "Image - Shape: (32, 32, 3)\n",
      "Label - Label Id: 1 Name: automobile\n"
     ]
    },
    {
     "data": {
      "image/png": "[encoded data removed]",
      "text/plain": [
       "<matplotlib.figure.Figure at 0x7f8aab92fb38>"
      ]
     },
     "metadata": {
      "image/png": {
       "height": 250,
       "width": 253
      }
     },
     "output_type": "display_data"
    }
   ],
   "source": [
    "%matplotlib inline\n",
    "%config InlineBackend.figure_format = 'retina'\n",
    "\n",
    "import helper\n",
    "import numpy as np\n",
    "\n",
    "# Explore the dataset\n",
    "batch_id = 1\n",
    "sample_id = 5\n",
    "helper.display_stats(cifar10_dataset_folder_path, batch_id, sample_id)"
   ]
  },
  {
   "cell_type": "markdown",
   "metadata": {},
   "source": [
    "## Implement Preprocess Functions\n",
    "### Normalize\n",
    "In the cell below, implement the `normalize` function to take in image data, `x`, and return it as a normalized Numpy array. The values should be in the range of 0 to 1, inclusive.  The return object should be the same shape as `x`."
   ]
  },
  {
   "cell_type": "code",
   "execution_count": 3,
   "metadata": {},
   "outputs": [
    {
     "name": "stdout",
     "output_type": "stream",
     "text": [
      "Tests Passed\n"
     ]
    }
   ],
   "source": [
    "def normalize(x):\n",
    "    \"\"\"\n",
    "    Normalize a list of sample image data in the range of 0 to 1\n",
    "    : x: List of image data.  The image shape is (32, 32, 3)\n",
    "    : return: Numpy array of normalize data\n",
    "    \"\"\"\n",
    "    # TODO: Implement Function\n",
    "    return np.asarray(x/255)\n",
    "\n",
    "\n",
    "\"\"\"\n",
    "DON'T MODIFY ANYTHING IN THIS CELL THAT IS BELOW THIS LINE\n",
    "\"\"\"\n",
    "tests.test_normalize(normalize)"
   ]
  },
  {
   "cell_type": "markdown",
   "metadata": {},
   "source": [
    "### One-hot encode\n",
    "Just like the previous code cell, you'll be implementing a function for preprocessing.  This time, you'll implement the `one_hot_encode` function. The input, `x`, are a list of labels.  Implement the function to return the list of labels as One-Hot encoded Numpy array.  The possible values for labels are 0 to 9. The one-hot encoding function should return the same encoding for each value between each call to `one_hot_encode`.  Make sure to save the map of encodings outside the function.\n",
    "\n",
    "Hint: Don't reinvent the wheel."
   ]
  },
  {
   "cell_type": "code",
   "execution_count": 4,
   "metadata": {},
   "outputs": [
    {
     "name": "stdout",
     "output_type": "stream",
     "text": [
      "Tests Passed\n"
     ]
    }
   ],
   "source": [
    "def one_hot_encode(x):\n",
    "    \"\"\"\n",
    "    One hot encode a list of sample labels. Return a one-hot encoded vector for each label.\n",
    "    : x: List of sample Labels\n",
    "    : return: Numpy array of one-hot encoded labels\n",
    "    \"\"\"\n",
    "    # TODO: Implement Function\n",
    "    hot_encoded_np_array = []\n",
    "    for item in x:\n",
    "        vector = [0,0,0,0,0,0,0,0,0,0]\n",
    "        vector[item] = 1\n",
    "        hot_encoded_np_array.append(vector)\n",
    "    \n",
    "    return np.asarray(hot_encoded_np_array)\n",
    "\n",
    "\n",
    "\"\"\"\n",
    "DON'T MODIFY ANYTHING IN THIS CELL THAT IS BELOW THIS LINE\n",
    "\"\"\"\n",
    "tests.test_one_hot_encode(one_hot_encode)"
   ]
  },
  {
   "cell_type": "markdown",
   "metadata": {},
   "source": [
    "### Randomize Data\n",
    "As you saw from exploring the data above, the order of the samples are randomized.  It doesn't hurt to randomize it again, but you don't need to for this dataset."
   ]
  },
  {
   "cell_type": "markdown",
   "metadata": {},
   "source": [
    "## Preprocess all the data and save it\n",
    "Running the code cell below will preprocess all the CIFAR-10 data and save it to file. The code below also uses 10% of the training data for validation."
   ]
  },
  {
   "cell_type": "code",
   "execution_count": 5,
   "metadata": {
    "collapsed": true
   },
   "outputs": [],
   "source": [
    "\"\"\"\n",
    "DON'T MODIFY ANYTHING IN THIS CELL\n",
    "\"\"\"\n",
    "# Preprocess Training, Validation, and Testing Data\n",
    "helper.preprocess_and_save_data(cifar10_dataset_folder_path, normalize, one_hot_encode)"
   ]
  },
  {
   "cell_type": "markdown",
   "metadata": {},
   "source": [
    "# Check Point\n",
    "This is your first checkpoint.  If you ever decide to come back to this notebook or have to restart the notebook, you can start from here.  The preprocessed data has been saved to disk."
   ]
  },
  {
   "cell_type": "code",
   "execution_count": 6,
   "metadata": {
    "collapsed": true
   },
   "outputs": [],
   "source": [
    "\"\"\"\n",
    "DON'T MODIFY ANYTHING IN THIS CELL\n",
    "\"\"\"\n",
    "import pickle\n",
    "import problem_unittests as tests\n",
    "import helper\n",
    "\n",
    "# Load the Preprocessed Validation data\n",
    "valid_features, valid_labels = pickle.load(open('preprocess_validation.p', mode='rb'))"
   ]
  },
  {
   "cell_type": "markdown",
   "metadata": {},
   "source": [
    "## Build the network\n",
    "For the neural network, you'll build each layer into a function.  Most of the code you've seen has been outside of functions. To test your code more thoroughly, we require that you put each layer in a function.  This allows us to give you better feedback and test for simple mistakes using our unittests before you submit your project.\n",
    "\n",
    ">**Note:** If you're finding it hard to dedicate enough time for this course each week, we've provided a small shortcut to this part of the project. In the next couple of problems, you'll have the option to use classes from the [TensorFlow Layers](https://www.tensorflow.org/api_docs/python/tf/layers) or [TensorFlow Layers (contrib)](https://www.tensorflow.org/api_guides/python/contrib.layers) packages to build each layer, except the layers you build in the \"Convolutional and Max Pooling Layer\" section.  TF Layers is similar to Keras's and TFLearn's abstraction to layers, so it's easy to pickup.\n",
    "\n",
    ">However, if you would like to get the most out of this course, try to solve all the problems _without_ using anything from the TF Layers packages. You **can** still use classes from other packages that happen to have the same name as ones you find in TF Layers! For example, instead of using the TF Layers version of the `conv2d` class, [tf.layers.conv2d](https://www.tensorflow.org/api_docs/python/tf/layers/conv2d), you would want to use the TF Neural Network version of `conv2d`, [tf.nn.conv2d](https://www.tensorflow.org/api_docs/python/tf/nn/conv2d). \n",
    "\n",
    "Let's begin!\n",
    "\n",
    "### Input\n",
    "The neural network needs to read the image data, one-hot encoded labels, and dropout keep probability. Implement the following functions\n",
    "* Implement `neural_net_image_input`\n",
    " * Return a [TF Placeholder](https://www.tensorflow.org/api_docs/python/tf/placeholder)\n",
    " * Set the shape using `image_shape` with batch size set to `None`.\n",
    " * Name the TensorFlow placeholder \"x\" using the TensorFlow `name` parameter in the [TF Placeholder](https://www.tensorflow.org/api_docs/python/tf/placeholder).\n",
    "* Implement `neural_net_label_input`\n",
    " * Return a [TF Placeholder](https://www.tensorflow.org/api_docs/python/tf/placeholder)\n",
    " * Set the shape using `n_classes` with batch size set to `None`.\n",
    " * Name the TensorFlow placeholder \"y\" using the TensorFlow `name` parameter in the [TF Placeholder](https://www.tensorflow.org/api_docs/python/tf/placeholder).\n",
    "* Implement `neural_net_keep_prob_input`\n",
    " * Return a [TF Placeholder](https://www.tensorflow.org/api_docs/python/tf/placeholder) for dropout keep probability.\n",
    " * Name the TensorFlow placeholder \"keep_prob\" using the TensorFlow `name` parameter in the [TF Placeholder](https://www.tensorflow.org/api_docs/python/tf/placeholder).\n",
    "\n",
    "These names will be used at the end of the project to load your saved model.\n",
    "\n",
    "Note: `None` for shapes in TensorFlow allow for a dynamic size."
   ]
  },
  {
   "cell_type": "code",
   "execution_count": 7,
   "metadata": {},
   "outputs": [
    {
     "name": "stdout",
     "output_type": "stream",
     "text": [
      "Image Input Tests Passed.\n",
      "Label Input Tests Passed.\n",
      "Keep Prob Tests Passed.\n"
     ]
    }
   ],
   "source": [
    "import tensorflow as tf\n",
    "\n",
    "def neural_net_image_input(image_shape):\n",
    "    \"\"\"\n",
    "    Return a Tensor for a bach of image input\n",
    "    : image_shape: Shape of the images\n",
    "    : return: Tensor for image input.\n",
    "    \"\"\"\n",
    "    # TODO: Implement Function\n",
    "    return tf.placeholder(tf.float32, shape=(None, image_shape[0], image_shape[1], image_shape[2]), name=\"x\")\n",
    "\n",
    "def neural_net_label_input(n_classes):\n",
    "    \"\"\"\n",
    "    Return a Tensor for a batch of label input\n",
    "    : n_classes: Number of classes\n",
    "    : return: Tensor for label input.\n",
    "    \"\"\"\n",
    "    # TODO: Implement Function\n",
    "    return tf.placeholder(tf.float32, shape=(None, n_classes), name=\"y\")\n",
    "\n",
    "\n",
    "def neural_net_keep_prob_input():\n",
    "    \"\"\"\n",
    "    Return a Tensor for keep probability\n",
    "    : return: Tensor for keep probability.\n",
    "    \"\"\"\n",
    "    # TODO: Implement Function\n",
    "    return tf.placeholder(tf.float32, name=\"keep_prob\")\n",
    "\n",
    "\n",
    "\"\"\"\n",
    "DON'T MODIFY ANYTHING IN THIS CELL THAT IS BELOW THIS LINE\n",
    "\"\"\"\n",
    "tf.reset_default_graph()\n",
    "tests.test_nn_image_inputs(neural_net_image_input)\n",
    "tests.test_nn_label_inputs(neural_net_label_input)\n",
    "tests.test_nn_keep_prob_inputs(neural_net_keep_prob_input)"
   ]
  },
  {
   "cell_type": "markdown",
   "metadata": {},
   "source": [
    "### Convolution and Max Pooling Layer\n",
    "Convolution layers have a lot of success with images. For this code cell, you should implement the function `conv2d_maxpool` to apply convolution then max pooling:\n",
    "* Create the weight and bias using `conv_ksize`, `conv_num_outputs` and the shape of `x_tensor`.\n",
    "* Apply a convolution to `x_tensor` using weight and `conv_strides`.\n",
    " * We recommend you use same padding, but you're welcome to use any padding.\n",
    "* Add bias\n",
    "* Add a nonlinear activation to the convolution.\n",
    "* Apply Max Pooling using `pool_ksize` and `pool_strides`.\n",
    " * We recommend you use same padding, but you're welcome to use any padding.\n",
    "\n",
    "**Note:** You **can't** use [TensorFlow Layers](https://www.tensorflow.org/api_docs/python/tf/layers) or [TensorFlow Layers (contrib)](https://www.tensorflow.org/api_guides/python/contrib.layers) for **this** layer, but you can still use TensorFlow's [Neural Network](https://www.tensorflow.org/api_docs/python/tf/nn) package. You may still use the shortcut option for all the **other** layers."
   ]
  },
  {
   "cell_type": "code",
   "execution_count": 8,
   "metadata": {},
   "outputs": [
    {
     "name": "stdout",
     "output_type": "stream",
     "text": [
      "Tests Passed\n"
     ]
    }
   ],
   "source": [
    "def conv2d_maxpool(x_tensor, conv_num_outputs, conv_ksize, conv_strides, pool_ksize, pool_strides):\n",
    "    \"\"\"\n",
    "    Apply convolution then max pooling to x_tensor\n",
    "    :param x_tensor: TensorFlow Tensor\n",
    "    :param conv_num_outputs: Number of outputs for the convolutional layer\n",
    "    :param conv_ksize: kernal size 2-D Tuple for the convolutional layer\n",
    "    :param conv_strides: Stride 2-D Tuple for convolution\n",
    "    :param pool_ksize: kernal size 2-D Tuple for pool\n",
    "    :param pool_strides: Stride 2-D Tuple for pool\n",
    "    : return: A tensor that represents convolution and max pooling of x_tensor\n",
    "    \"\"\"\n",
    "    # TODO: Implement Function\n",
    "    weight = tf.Variable(tf.truncated_normal([*conv_ksize, int(x_tensor.shape[3]), conv_num_outputs], stddev=0.05))\n",
    "    bias = tf.Variable(tf.zeros(conv_num_outputs))\n",
    "    \n",
    "    conv_layer = tf.nn.conv2d(x_tensor, weight, strides=[1, *conv_strides, 1], padding=\"SAME\")\n",
    "    conv_layer = tf.add(conv_layer, bias)\n",
    "    conv_layer = tf.nn.relu(conv_layer)\n",
    "    conv_layer = tf.nn.max_pool(conv_layer, ksize=[1, *pool_ksize, 1], strides=[1, *pool_strides, 1], padding=\"SAME\")\n",
    "    return conv_layer \n",
    "\n",
    "\n",
    "\n",
    "\"\"\"\n",
    "DON'T MODIFY ANYTHING IN THIS CELL THAT IS BELOW THIS LINE\n",
    "\"\"\"\n",
    "tests.test_con_pool(conv2d_maxpool)"
   ]
  },
  {
   "cell_type": "markdown",
   "metadata": {},
   "source": [
    "### Flatten Layer\n",
    "Implement the `flatten` function to change the dimension of `x_tensor` from a 4-D tensor to a 2-D tensor.  The output should be the shape (*Batch Size*, *Flattened Image Size*). Shortcut option: you can use classes from the [TensorFlow Layers](https://www.tensorflow.org/api_docs/python/tf/layers) or [TensorFlow Layers (contrib)](https://www.tensorflow.org/api_guides/python/contrib.layers) packages for this layer. For more of a challenge, only use other TensorFlow packages."
   ]
  },
  {
   "cell_type": "code",
   "execution_count": 9,
   "metadata": {},
   "outputs": [
    {
     "name": "stdout",
     "output_type": "stream",
     "text": [
      "Tests Passed\n"
     ]
    }
   ],
   "source": [
    "def flatten(x_tensor):\n",
    "    \"\"\"\n",
    "    Flatten x_tensor to (Batch Size, Flattened Image Size)\n",
    "    : x_tensor: A tensor of size (Batch Size, ...), where ... are the image dimensions.\n",
    "    : return: A tensor of size (Batch Size, Flattened Image Size).\n",
    "    \"\"\"\n",
    "    # TODO: Implement Function\n",
    "    return tf.reshape(x_tensor, [-1, int(x_tensor.shape[1])*int(x_tensor.shape[2])*int(x_tensor.shape[3])])\n",
    "\n",
    "\n",
    "\"\"\"\n",
    "DON'T MODIFY ANYTHING IN THIS CELL THAT IS BELOW THIS LINE\n",
    "\"\"\"\n",
    "tests.test_flatten(flatten)"
   ]
  },
  {
   "cell_type": "markdown",
   "metadata": {},
   "source": [
    "### Fully-Connected Layer\n",
    "Implement the `fully_conn` function to apply a fully connected layer to `x_tensor` with the shape (*Batch Size*, *num_outputs*). Shortcut option: you can use classes from the [TensorFlow Layers](https://www.tensorflow.org/api_docs/python/tf/layers) or [TensorFlow Layers (contrib)](https://www.tensorflow.org/api_guides/python/contrib.layers) packages for this layer. For more of a challenge, only use other TensorFlow packages."
   ]
  },
  {
   "cell_type": "code",
   "execution_count": 10,
   "metadata": {},
   "outputs": [
    {
     "name": "stdout",
     "output_type": "stream",
     "text": [
      "Tests Passed\n"
     ]
    }
   ],
   "source": [
    "def fully_conn(x_tensor, num_outputs):\n",
    "    \"\"\"\n",
    "    Apply a fully connected layer to x_tensor using weight and bias\n",
    "    : x_tensor: A 2-D tensor where the first dimension is batch size.\n",
    "    : num_outputs: The number of output that the new tensor should be.\n",
    "    : return: A 2-D tensor where the second dimension is num_outputs.\n",
    "    \"\"\"\n",
    "    # TODO: Implement Function\n",
    "    weight = tf.Variable(tf.truncated_normal([int(x_tensor.shape[1]), num_outputs], stddev=0.05))\n",
    "    bias = tf.Variable(tf.zeros(num_outputs))\n",
    "    \n",
    "    # Fully convolution layer.\n",
    "    fc = tf.nn.relu(tf.add(tf.matmul(x_tensor, weight), bias))        \n",
    "    return fc\n",
    "\n",
    "\"\"\"\n",
    "DON'T MODIFY ANYTHING IN THIS CELL THAT IS BELOW THIS LINE\n",
    "\"\"\"\n",
    "tests.test_fully_conn(fully_conn)"
   ]
  },
  {
   "cell_type": "markdown",
   "metadata": {},
   "source": [
    "### Output Layer\n",
    "Implement the `output` function to apply a fully connected layer to `x_tensor` with the shape (*Batch Size*, *num_outputs*). Shortcut option: you can use classes from the [TensorFlow Layers](https://www.tensorflow.org/api_docs/python/tf/layers) or [TensorFlow Layers (contrib)](https://www.tensorflow.org/api_guides/python/contrib.layers) packages for this layer. For more of a challenge, only use other TensorFlow packages.\n",
    "\n",
    "**Note:** Activation, softmax, or cross entropy should **not** be applied to this."
   ]
  },
  {
   "cell_type": "code",
   "execution_count": 11,
   "metadata": {},
   "outputs": [
    {
     "name": "stdout",
     "output_type": "stream",
     "text": [
      "Tests Passed\n"
     ]
    }
   ],
   "source": [
    "def output(x_tensor, num_outputs):\n",
    "    \"\"\"\n",
    "    Apply a output layer to x_tensor using weight and bias\n",
    "    : x_tensor: A 2-D tensor where the first dimension is batch size.\n",
    "    : num_outputs: The number of output that the new tensor should be.\n",
    "    : return: A 2-D tensor where the second dimension is num_outputs.\n",
    "    \"\"\"\n",
    "    # TODO: Implement Function\n",
    "    weight = tf.Variable(tf.truncated_normal([int(x_tensor.shape[1]), num_outputs]))\n",
    "    bias = tf.Variable(tf.zeros(num_outputs))\n",
    "    return tf.add(tf.matmul(x_tensor, weight), bias)\n",
    "\n",
    "\n",
    "\"\"\"\n",
    "DON'T MODIFY ANYTHING IN THIS CELL THAT IS BELOW THIS LINE\n",
    "\"\"\"\n",
    "tests.test_output(output)"
   ]
  },
  {
   "cell_type": "markdown",
   "metadata": {},
   "source": [
    "### Create Convolutional Model\n",
    "Implement the function `conv_net` to create a convolutional neural network model. The function takes in a batch of images, `x`, and outputs logits.  Use the layers you created above to create this model:\n",
    "\n",
    "* Apply 1, 2, or 3 Convolution and Max Pool layers\n",
    "* Apply a Flatten Layer\n",
    "* Apply 1, 2, or 3 Fully Connected Layers\n",
    "* Apply an Output Layer\n",
    "* Return the output\n",
    "* Apply [TensorFlow's Dropout](https://www.tensorflow.org/api_docs/python/tf/nn/dropout) to one or more layers in the model using `keep_prob`. "
   ]
  },
  {
   "cell_type": "code",
   "execution_count": 12,
   "metadata": {},
   "outputs": [
    {
     "name": "stdout",
     "output_type": "stream",
     "text": [
      "Neural Network Built!\n"
     ]
    }
   ],
   "source": [
    "def conv_net(x, keep_prob):\n",
    "    \"\"\"\n",
    "    Create a convolutional neural network model\n",
    "    : x: Placeholder tensor that holds image data.\n",
    "    : keep_prob: Placeholder tensor that hold dropout keep probability.\n",
    "    : return: Tensor that represents logits\n",
    "    \"\"\"\n",
    "    # TODO: Apply 1, 2, or 3 Convolution and Max Pool layers\n",
    "    #    Play around with different number of outputs, kernel size and stride\n",
    "    # Function Definition from Above:\n",
    "    #    conv2d_maxpool(x_tensor, conv_num_outputs, conv_ksize, conv_strides, pool_ksize, pool_strides)\n",
    "    \n",
    "    conv = conv2d_maxpool(x, 90, (3, 3), (1, 1), (2, 2), (2, 2))\n",
    "    conv = tf.nn.dropout(conv, keep_prob)\n",
    "    conv = conv2d_maxpool(conv, 100, (3, 3), (1, 1), (2, 2), (2, 2))\n",
    "    conv = conv2d_maxpool(conv, 110, (3, 3), (1, 1), (2, 2), (2, 2))\n",
    "    \n",
    "    # TODO: Apply a Flatten Layer\n",
    "    # Function Definition from Above:\n",
    "    #   flatten(x_tensor)\n",
    "    flattened = flatten(conv)\n",
    "\n",
    "    # TODO: Apply 1, 2, or 3 Fully Connected Layers\n",
    "    #    Play around with different number of outputs\n",
    "    # Function Definition from Above:\n",
    "    #   fully_conn(x_tensor, num_outputs)\n",
    "    connected = fully_conn(flattened, 380)\n",
    "    connected = tf.nn.dropout(connected, keep_prob)\n",
    "    connected = fully_conn(connected, 100)\n",
    "    \n",
    "    # TODO: Apply an Output Layer\n",
    "    #    Set this to the number of classes\n",
    "    # Function Definition from Above:\n",
    "    #   output(x_tensor, num_outputs)\n",
    "    out = output(connected, 10)\n",
    "    \n",
    "    # TODO: return output\n",
    "    return out\n",
    "\n",
    "\n",
    "\"\"\"\n",
    "DON'T MODIFY ANYTHING IN THIS CELL THAT IS BELOW THIS LINE\n",
    "\"\"\"\n",
    "\n",
    "##############################\n",
    "## Build the Neural Network ##\n",
    "##############################\n",
    "\n",
    "# Remove previous weights, bias, inputs, etc..\n",
    "tf.reset_default_graph()\n",
    "\n",
    "# Inputs\n",
    "x = neural_net_image_input((32, 32, 3))\n",
    "y = neural_net_label_input(10)\n",
    "keep_prob = neural_net_keep_prob_input()\n",
    "\n",
    "# Model\n",
    "logits = conv_net(x, keep_prob)\n",
    "\n",
    "# Name logits Tensor, so that is can be loaded from disk after training\n",
    "logits = tf.identity(logits, name='logits')\n",
    "\n",
    "# Loss and Optimizer\n",
    "cost = tf.reduce_mean(tf.nn.softmax_cross_entropy_with_logits(logits=logits, labels=y))\n",
    "optimizer = tf.train.AdamOptimizer().minimize(cost)\n",
    "\n",
    "# Accuracy\n",
    "correct_pred = tf.equal(tf.argmax(logits, 1), tf.argmax(y, 1))\n",
    "accuracy = tf.reduce_mean(tf.cast(correct_pred, tf.float32), name='accuracy')\n",
    "\n",
    "tests.test_conv_net(conv_net)"
   ]
  },
  {
   "cell_type": "markdown",
   "metadata": {},
   "source": [
    "## Train the Neural Network\n",
    "### Single Optimization\n",
    "Implement the function `train_neural_network` to do a single optimization.  The optimization should use `optimizer` to optimize in `session` with a `feed_dict` of the following:\n",
    "* `x` for image input\n",
    "* `y` for labels\n",
    "* `keep_prob` for keep probability for dropout\n",
    "\n",
    "This function will be called for each batch, so `tf.global_variables_initializer()` has already been called.\n",
    "\n",
    "Note: Nothing needs to be returned. This function is only optimizing the neural network."
   ]
  },
  {
   "cell_type": "code",
   "execution_count": 13,
   "metadata": {},
   "outputs": [
    {
     "name": "stdout",
     "output_type": "stream",
     "text": [
      "Tests Passed\n"
     ]
    }
   ],
   "source": [
    "def train_neural_network(session, optimizer, keep_probability, feature_batch, label_batch):\n",
    "    \"\"\"\n",
    "    Optimize the session on a batch of images and labels\n",
    "    : session: Current TensorFlow session\n",
    "    : optimizer: TensorFlow optimizer function\n",
    "    : keep_probability: keep probability\n",
    "    : feature_batch: Batch of Numpy image data\n",
    "    : label_batch: Batch of Numpy label data\n",
    "    \"\"\"\n",
    "    # TODO: Implement Function\n",
    "    session.run(optimizer, feed_dict={x: feature_batch, y: label_batch, keep_prob: keep_probability})\n",
    "\n",
    "\n",
    "\"\"\"\n",
    "DON'T MODIFY ANYTHING IN THIS CELL THAT IS BELOW THIS LINE\n",
    "\"\"\"\n",
    "tests.test_train_nn(train_neural_network)"
   ]
  },
  {
   "cell_type": "markdown",
   "metadata": {},
   "source": [
    "### Show Stats\n",
    "Implement the function `print_stats` to print loss and validation accuracy.  Use the global variables `valid_features` and `valid_labels` to calculate validation accuracy.  Use a keep probability of `1.0` to calculate the loss and validation accuracy."
   ]
  },
  {
   "cell_type": "code",
   "execution_count": 14,
   "metadata": {
    "collapsed": true
   },
   "outputs": [],
   "source": [
    "def print_stats(session, feature_batch, label_batch, cost, accuracy):\n",
    "    \"\"\"\n",
    "    Print information about loss and validation accuracy\n",
    "    : session: Current TensorFlow session\n",
    "    : feature_batch: Batch of Numpy image data\n",
    "    : label_batch: Batch of Numpy label data\n",
    "    : cost: TensorFlow cost function\n",
    "    : accuracy: TensorFlow accuracy function\n",
    "    \"\"\"\n",
    "    # TODO: Implement Function\n",
    "    loss = session.run(cost, feed_dict={x: feature_batch, y: label_batch, keep_prob: 1.})\n",
    "    valid_acc = session.run(accuracy, feed_dict={x: valid_features, y: valid_labels, keep_prob: 1.})\n",
    "    \n",
    "    print('Loss: {:>10.4f} Validation Accuracy: {:.6f}'.format(loss, valid_acc))"
   ]
  },
  {
   "cell_type": "markdown",
   "metadata": {},
   "source": [
    "### Hyperparameters\n",
    "Tune the following parameters:\n",
    "* Set `epochs` to the number of iterations until the network stops learning or start overfitting\n",
    "* Set `batch_size` to the highest number that your machine has memory for.  Most people set them to common sizes of memory:\n",
    " * 64\n",
    " * 128\n",
    " * 256\n",
    " * ...\n",
    "* Set `keep_probability` to the probability of keeping a node using dropout"
   ]
  },
  {
   "cell_type": "code",
   "execution_count": 16,
   "metadata": {
    "collapsed": true
   },
   "outputs": [],
   "source": [
    "# TODO: Tune Parameters\n",
    "epochs = 25\n",
    "batch_size = 512\n",
    "keep_probability = .5"
   ]
  },
  {
   "cell_type": "markdown",
   "metadata": {},
   "source": [
    "### Train on a Single CIFAR-10 Batch\n",
    "Instead of training the neural network on all the CIFAR-10 batches of data, let's use a single batch. This should save time while you iterate on the model to get a better accuracy.  Once the final validation accuracy is 50% or greater, run the model on all the data in the next section."
   ]
  },
  {
   "cell_type": "code",
   "execution_count": 17,
   "metadata": {},
   "outputs": [
    {
     "name": "stdout",
     "output_type": "stream",
     "text": [
      "Checking the Training on a Single Batch...\n",
      "Epoch  1, CIFAR-10 Batch 1:  Loss:     2.2940 Validation Accuracy: 0.112200\n",
      "Epoch  2, CIFAR-10 Batch 1:  Loss:     2.1258 Validation Accuracy: 0.221000\n",
      "Epoch  3, CIFAR-10 Batch 1:  Loss:     2.0267 Validation Accuracy: 0.283800\n",
      "Epoch  4, CIFAR-10 Batch 1:  Loss:     1.8980 Validation Accuracy: 0.339400\n",
      "Epoch  5, CIFAR-10 Batch 1:  Loss:     1.8026 Validation Accuracy: 0.374000\n",
      "Epoch  6, CIFAR-10 Batch 1:  Loss:     1.7119 Validation Accuracy: 0.404800\n",
      "Epoch  7, CIFAR-10 Batch 1:  Loss:     1.5925 Validation Accuracy: 0.436200\n",
      "Epoch  8, CIFAR-10 Batch 1:  Loss:     1.4848 Validation Accuracy: 0.465800\n",
      "Epoch  9, CIFAR-10 Batch 1:  Loss:     1.4232 Validation Accuracy: 0.488200\n",
      "Epoch 10, CIFAR-10 Batch 1:  Loss:     1.3053 Validation Accuracy: 0.514400\n",
      "Epoch 11, CIFAR-10 Batch 1:  Loss:     1.2966 Validation Accuracy: 0.501600\n",
      "Epoch 12, CIFAR-10 Batch 1:  Loss:     1.2095 Validation Accuracy: 0.527600\n",
      "Epoch 13, CIFAR-10 Batch 1:  Loss:     1.1171 Validation Accuracy: 0.551400\n",
      "Epoch 14, CIFAR-10 Batch 1:  Loss:     1.0427 Validation Accuracy: 0.562000\n",
      "Epoch 15, CIFAR-10 Batch 1:  Loss:     0.9581 Validation Accuracy: 0.572000\n",
      "Epoch 16, CIFAR-10 Batch 1:  Loss:     0.9601 Validation Accuracy: 0.569400\n",
      "Epoch 17, CIFAR-10 Batch 1:  Loss:     0.9242 Validation Accuracy: 0.564600\n",
      "Epoch 18, CIFAR-10 Batch 1:  Loss:     0.7791 Validation Accuracy: 0.598600\n",
      "Epoch 19, CIFAR-10 Batch 1:  Loss:     0.7850 Validation Accuracy: 0.586000\n",
      "Epoch 20, CIFAR-10 Batch 1:  Loss:     0.7319 Validation Accuracy: 0.587600\n",
      "Epoch 21, CIFAR-10 Batch 1:  Loss:     0.7436 Validation Accuracy: 0.575800\n",
      "Epoch 22, CIFAR-10 Batch 1:  Loss:     0.6506 Validation Accuracy: 0.604000\n",
      "Epoch 23, CIFAR-10 Batch 1:  Loss:     0.5546 Validation Accuracy: 0.614600\n",
      "Epoch 24, CIFAR-10 Batch 1:  Loss:     0.5565 Validation Accuracy: 0.605600\n",
      "Epoch 25, CIFAR-10 Batch 1:  Loss:     0.4916 Validation Accuracy: 0.617400\n"
     ]
    }
   ],
   "source": [
    "\"\"\"\n",
    "DON'T MODIFY ANYTHING IN THIS CELL\n",
    "\"\"\"\n",
    "print('Checking the Training on a Single Batch...')\n",
    "with tf.Session() as sess:\n",
    "    # Initializing the variables\n",
    "    sess.run(tf.global_variables_initializer())\n",
    "    \n",
    "    # Training cycle\n",
    "    for epoch in range(epochs):\n",
    "        batch_i = 1\n",
    "        for batch_features, batch_labels in helper.load_preprocess_training_batch(batch_i, batch_size):\n",
    "            train_neural_network(sess, optimizer, keep_probability, batch_features, batch_labels)\n",
    "        print('Epoch {:>2}, CIFAR-10 Batch {}:  '.format(epoch + 1, batch_i), end='')\n",
    "        print_stats(sess, batch_features, batch_labels, cost, accuracy)"
   ]
  },
  {
   "cell_type": "markdown",
   "metadata": {},
   "source": [
    "### Fully Train the Model\n",
    "Now that you got a good accuracy with a single CIFAR-10 batch, try it with all five batches."
   ]
  },
  {
   "cell_type": "code",
   "execution_count": 18,
   "metadata": {},
   "outputs": [
    {
     "name": "stdout",
     "output_type": "stream",
     "text": [
      "Training...\n",
      "Epoch  1, CIFAR-10 Batch 1:  Loss:     2.2608 Validation Accuracy: 0.170800\n",
      "Epoch  1, CIFAR-10 Batch 2:  Loss:     2.0960 Validation Accuracy: 0.234400\n",
      "Epoch  1, CIFAR-10 Batch 3:  Loss:     1.9640 Validation Accuracy: 0.291000\n",
      "Epoch  1, CIFAR-10 Batch 4:  Loss:     1.7695 Validation Accuracy: 0.364800\n",
      "Epoch  1, CIFAR-10 Batch 5:  Loss:     1.7680 Validation Accuracy: 0.344000\n",
      "Epoch  2, CIFAR-10 Batch 1:  Loss:     1.7732 Validation Accuracy: 0.387600\n",
      "Epoch  2, CIFAR-10 Batch 2:  Loss:     1.6187 Validation Accuracy: 0.422000\n",
      "Epoch  2, CIFAR-10 Batch 3:  Loss:     1.4188 Validation Accuracy: 0.439600\n",
      "Epoch  2, CIFAR-10 Batch 4:  Loss:     1.4637 Validation Accuracy: 0.449400\n",
      "Epoch  2, CIFAR-10 Batch 5:  Loss:     1.4754 Validation Accuracy: 0.450400\n",
      "Epoch  3, CIFAR-10 Batch 1:  Loss:     1.5133 Validation Accuracy: 0.468200\n",
      "Epoch  3, CIFAR-10 Batch 2:  Loss:     1.4228 Validation Accuracy: 0.508200\n",
      "Epoch  3, CIFAR-10 Batch 3:  Loss:     1.2046 Validation Accuracy: 0.518200\n",
      "Epoch  3, CIFAR-10 Batch 4:  Loss:     1.1761 Validation Accuracy: 0.547800\n",
      "Epoch  3, CIFAR-10 Batch 5:  Loss:     1.2059 Validation Accuracy: 0.544200\n",
      "Epoch  4, CIFAR-10 Batch 1:  Loss:     1.2708 Validation Accuracy: 0.556400\n",
      "Epoch  4, CIFAR-10 Batch 2:  Loss:     1.2070 Validation Accuracy: 0.568800\n",
      "Epoch  4, CIFAR-10 Batch 3:  Loss:     1.0734 Validation Accuracy: 0.567200\n",
      "Epoch  4, CIFAR-10 Batch 4:  Loss:     1.0983 Validation Accuracy: 0.572600\n",
      "Epoch  4, CIFAR-10 Batch 5:  Loss:     1.1003 Validation Accuracy: 0.578600\n",
      "Epoch  5, CIFAR-10 Batch 1:  Loss:     1.1012 Validation Accuracy: 0.611000\n",
      "Epoch  5, CIFAR-10 Batch 2:  Loss:     1.0645 Validation Accuracy: 0.624800\n",
      "Epoch  5, CIFAR-10 Batch 3:  Loss:     0.9292 Validation Accuracy: 0.613200\n",
      "Epoch  5, CIFAR-10 Batch 4:  Loss:     0.9588 Validation Accuracy: 0.613800\n",
      "Epoch  5, CIFAR-10 Batch 5:  Loss:     0.9774 Validation Accuracy: 0.609000\n",
      "Epoch  6, CIFAR-10 Batch 1:  Loss:     0.9635 Validation Accuracy: 0.646600\n",
      "Epoch  6, CIFAR-10 Batch 2:  Loss:     0.9236 Validation Accuracy: 0.649600\n",
      "Epoch  6, CIFAR-10 Batch 3:  Loss:     0.8190 Validation Accuracy: 0.652800\n",
      "Epoch  6, CIFAR-10 Batch 4:  Loss:     0.9101 Validation Accuracy: 0.623200\n",
      "Epoch  6, CIFAR-10 Batch 5:  Loss:     0.8457 Validation Accuracy: 0.654800\n",
      "Epoch  7, CIFAR-10 Batch 1:  Loss:     0.8701 Validation Accuracy: 0.662400\n",
      "Epoch  7, CIFAR-10 Batch 2:  Loss:     0.8822 Validation Accuracy: 0.655600\n",
      "Epoch  7, CIFAR-10 Batch 3:  Loss:     0.7717 Validation Accuracy: 0.662200\n",
      "Epoch  7, CIFAR-10 Batch 4:  Loss:     0.7714 Validation Accuracy: 0.655000\n",
      "Epoch  7, CIFAR-10 Batch 5:  Loss:     0.7481 Validation Accuracy: 0.677000\n",
      "Epoch  8, CIFAR-10 Batch 1:  Loss:     0.7872 Validation Accuracy: 0.690800\n",
      "Epoch  8, CIFAR-10 Batch 2:  Loss:     0.7961 Validation Accuracy: 0.674000\n",
      "Epoch  8, CIFAR-10 Batch 3:  Loss:     0.7133 Validation Accuracy: 0.676800\n",
      "Epoch  8, CIFAR-10 Batch 4:  Loss:     0.7186 Validation Accuracy: 0.675000\n",
      "Epoch  8, CIFAR-10 Batch 5:  Loss:     0.6598 Validation Accuracy: 0.699400\n",
      "Epoch  9, CIFAR-10 Batch 1:  Loss:     0.7460 Validation Accuracy: 0.697200\n",
      "Epoch  9, CIFAR-10 Batch 2:  Loss:     0.7390 Validation Accuracy: 0.694200\n",
      "Epoch  9, CIFAR-10 Batch 3:  Loss:     0.6873 Validation Accuracy: 0.686600\n",
      "Epoch  9, CIFAR-10 Batch 4:  Loss:     0.6193 Validation Accuracy: 0.693800\n",
      "Epoch  9, CIFAR-10 Batch 5:  Loss:     0.6405 Validation Accuracy: 0.696800\n",
      "Epoch 10, CIFAR-10 Batch 1:  Loss:     0.6926 Validation Accuracy: 0.704800\n",
      "Epoch 10, CIFAR-10 Batch 2:  Loss:     0.7239 Validation Accuracy: 0.694400\n",
      "Epoch 10, CIFAR-10 Batch 3:  Loss:     0.6330 Validation Accuracy: 0.707800\n",
      "Epoch 10, CIFAR-10 Batch 4:  Loss:     0.6210 Validation Accuracy: 0.705200\n",
      "Epoch 10, CIFAR-10 Batch 5:  Loss:     0.6044 Validation Accuracy: 0.705000\n",
      "Epoch 11, CIFAR-10 Batch 1:  Loss:     0.6862 Validation Accuracy: 0.701200\n",
      "Epoch 11, CIFAR-10 Batch 2:  Loss:     0.6169 Validation Accuracy: 0.717200\n",
      "Epoch 11, CIFAR-10 Batch 3:  Loss:     0.5874 Validation Accuracy: 0.711800\n",
      "Epoch 11, CIFAR-10 Batch 4:  Loss:     0.5364 Validation Accuracy: 0.713400\n",
      "Epoch 11, CIFAR-10 Batch 5:  Loss:     0.5511 Validation Accuracy: 0.708400\n",
      "Epoch 12, CIFAR-10 Batch 1:  Loss:     0.5998 Validation Accuracy: 0.718400\n",
      "Epoch 12, CIFAR-10 Batch 2:  Loss:     0.5696 Validation Accuracy: 0.726600\n",
      "Epoch 12, CIFAR-10 Batch 3:  Loss:     0.5392 Validation Accuracy: 0.728800\n",
      "Epoch 12, CIFAR-10 Batch 4:  Loss:     0.4960 Validation Accuracy: 0.726000\n",
      "Epoch 12, CIFAR-10 Batch 5:  Loss:     0.4673 Validation Accuracy: 0.719400\n",
      "Epoch 13, CIFAR-10 Batch 1:  Loss:     0.5114 Validation Accuracy: 0.734000\n",
      "Epoch 13, CIFAR-10 Batch 2:  Loss:     0.5021 Validation Accuracy: 0.737400\n",
      "Epoch 13, CIFAR-10 Batch 3:  Loss:     0.4836 Validation Accuracy: 0.734400\n",
      "Epoch 13, CIFAR-10 Batch 4:  Loss:     0.4753 Validation Accuracy: 0.729400\n",
      "Epoch 13, CIFAR-10 Batch 5:  Loss:     0.4630 Validation Accuracy: 0.727400\n",
      "Epoch 14, CIFAR-10 Batch 1:  Loss:     0.5287 Validation Accuracy: 0.729800\n",
      "Epoch 14, CIFAR-10 Batch 2:  Loss:     0.4946 Validation Accuracy: 0.742800\n",
      "Epoch 14, CIFAR-10 Batch 3:  Loss:     0.4760 Validation Accuracy: 0.739800\n",
      "Epoch 14, CIFAR-10 Batch 4:  Loss:     0.4248 Validation Accuracy: 0.741200\n",
      "Epoch 14, CIFAR-10 Batch 5:  Loss:     0.4271 Validation Accuracy: 0.713000\n",
      "Epoch 15, CIFAR-10 Batch 1:  Loss:     0.5350 Validation Accuracy: 0.731000\n",
      "Epoch 15, CIFAR-10 Batch 2:  Loss:     0.4549 Validation Accuracy: 0.740600\n",
      "Epoch 15, CIFAR-10 Batch 3:  Loss:     0.4263 Validation Accuracy: 0.737800\n",
      "Epoch 15, CIFAR-10 Batch 4:  Loss:     0.4195 Validation Accuracy: 0.741000\n",
      "Epoch 15, CIFAR-10 Batch 5:  Loss:     0.4672 Validation Accuracy: 0.707800\n",
      "Epoch 16, CIFAR-10 Batch 1:  Loss:     0.4866 Validation Accuracy: 0.737800\n",
      "Epoch 16, CIFAR-10 Batch 2:  Loss:     0.4531 Validation Accuracy: 0.738600\n",
      "Epoch 16, CIFAR-10 Batch 3:  Loss:     0.3968 Validation Accuracy: 0.750400\n",
      "Epoch 16, CIFAR-10 Batch 4:  Loss:     0.3636 Validation Accuracy: 0.756200\n",
      "Epoch 16, CIFAR-10 Batch 5:  Loss:     0.3973 Validation Accuracy: 0.731600\n",
      "Epoch 17, CIFAR-10 Batch 1:  Loss:     0.4559 Validation Accuracy: 0.732000\n",
      "Epoch 17, CIFAR-10 Batch 2:  Loss:     0.4655 Validation Accuracy: 0.723000\n",
      "Epoch 17, CIFAR-10 Batch 3:  Loss:     0.3791 Validation Accuracy: 0.755400\n",
      "Epoch 17, CIFAR-10 Batch 4:  Loss:     0.3368 Validation Accuracy: 0.749600\n",
      "Epoch 17, CIFAR-10 Batch 5:  Loss:     0.3920 Validation Accuracy: 0.729600\n",
      "Epoch 18, CIFAR-10 Batch 1:  Loss:     0.3724 Validation Accuracy: 0.750400\n",
      "Epoch 18, CIFAR-10 Batch 2:  Loss:     0.4285 Validation Accuracy: 0.730000\n",
      "Epoch 18, CIFAR-10 Batch 3:  Loss:     0.3566 Validation Accuracy: 0.741600\n",
      "Epoch 18, CIFAR-10 Batch 4:  Loss:     0.3329 Validation Accuracy: 0.750200\n",
      "Epoch 18, CIFAR-10 Batch 5:  Loss:     0.3450 Validation Accuracy: 0.734600\n",
      "Epoch 19, CIFAR-10 Batch 1:  Loss:     0.3590 Validation Accuracy: 0.746800\n",
      "Epoch 19, CIFAR-10 Batch 2:  Loss:     0.4048 Validation Accuracy: 0.730200\n",
      "Epoch 19, CIFAR-10 Batch 3:  Loss:     0.3150 Validation Accuracy: 0.761400\n",
      "Epoch 19, CIFAR-10 Batch 4:  Loss:     0.2837 Validation Accuracy: 0.760600\n",
      "Epoch 19, CIFAR-10 Batch 5:  Loss:     0.3198 Validation Accuracy: 0.728600\n",
      "Epoch 20, CIFAR-10 Batch 1:  Loss:     0.3399 Validation Accuracy: 0.742000\n",
      "Epoch 20, CIFAR-10 Batch 2:  Loss:     0.3793 Validation Accuracy: 0.745800\n",
      "Epoch 20, CIFAR-10 Batch 3:  Loss:     0.3311 Validation Accuracy: 0.750200\n",
      "Epoch 20, CIFAR-10 Batch 4:  Loss:     0.2718 Validation Accuracy: 0.763000\n",
      "Epoch 20, CIFAR-10 Batch 5:  Loss:     0.2803 Validation Accuracy: 0.744600\n",
      "Epoch 21, CIFAR-10 Batch 1:  Loss:     0.3062 Validation Accuracy: 0.750600\n",
      "Epoch 21, CIFAR-10 Batch 2:  Loss:     0.3015 Validation Accuracy: 0.757800\n",
      "Epoch 21, CIFAR-10 Batch 3:  Loss:     0.3028 Validation Accuracy: 0.761600\n",
      "Epoch 21, CIFAR-10 Batch 4:  Loss:     0.2431 Validation Accuracy: 0.765200\n",
      "Epoch 21, CIFAR-10 Batch 5:  Loss:     0.2842 Validation Accuracy: 0.734200\n",
      "Epoch 22, CIFAR-10 Batch 1:  Loss:     0.2592 Validation Accuracy: 0.770600\n",
      "Epoch 22, CIFAR-10 Batch 2:  Loss:     0.3372 Validation Accuracy: 0.747000\n",
      "Epoch 22, CIFAR-10 Batch 3:  Loss:     0.2545 Validation Accuracy: 0.766200\n"
     ]
    },
    {
     "name": "stdout",
     "output_type": "stream",
     "text": [
      "Epoch 22, CIFAR-10 Batch 4:  Loss:     0.2422 Validation Accuracy: 0.762000\n",
      "Epoch 22, CIFAR-10 Batch 5:  Loss:     0.2596 Validation Accuracy: 0.746400\n",
      "Epoch 23, CIFAR-10 Batch 1:  Loss:     0.2770 Validation Accuracy: 0.758000\n",
      "Epoch 23, CIFAR-10 Batch 2:  Loss:     0.2582 Validation Accuracy: 0.764800\n",
      "Epoch 23, CIFAR-10 Batch 3:  Loss:     0.2507 Validation Accuracy: 0.765800\n",
      "Epoch 23, CIFAR-10 Batch 4:  Loss:     0.2390 Validation Accuracy: 0.754600\n",
      "Epoch 23, CIFAR-10 Batch 5:  Loss:     0.2155 Validation Accuracy: 0.742200\n",
      "Epoch 24, CIFAR-10 Batch 1:  Loss:     0.2576 Validation Accuracy: 0.763600\n",
      "Epoch 24, CIFAR-10 Batch 2:  Loss:     0.2607 Validation Accuracy: 0.761800\n",
      "Epoch 24, CIFAR-10 Batch 3:  Loss:     0.2567 Validation Accuracy: 0.755400\n",
      "Epoch 24, CIFAR-10 Batch 4:  Loss:     0.2465 Validation Accuracy: 0.752200\n",
      "Epoch 24, CIFAR-10 Batch 5:  Loss:     0.1983 Validation Accuracy: 0.754000\n",
      "Epoch 25, CIFAR-10 Batch 1:  Loss:     0.2395 Validation Accuracy: 0.760200\n",
      "Epoch 25, CIFAR-10 Batch 2:  Loss:     0.2483 Validation Accuracy: 0.765800\n",
      "Epoch 25, CIFAR-10 Batch 3:  Loss:     0.2223 Validation Accuracy: 0.761600\n",
      "Epoch 25, CIFAR-10 Batch 4:  Loss:     0.2003 Validation Accuracy: 0.764000\n",
      "Epoch 25, CIFAR-10 Batch 5:  Loss:     0.1746 Validation Accuracy: 0.759000\n"
     ]
    }
   ],
   "source": [
    "\"\"\"\n",
    "DON'T MODIFY ANYTHING IN THIS CELL\n",
    "\"\"\"\n",
    "save_model_path = './image_classification'\n",
    "\n",
    "print('Training...')\n",
    "with tf.Session() as sess:\n",
    "    # Initializing the variables\n",
    "    sess.run(tf.global_variables_initializer())\n",
    "    \n",
    "    # Training cycle\n",
    "    for epoch in range(epochs):\n",
    "        # Loop over all batches\n",
    "        n_batches = 5\n",
    "        for batch_i in range(1, n_batches + 1):\n",
    "            for batch_features, batch_labels in helper.load_preprocess_training_batch(batch_i, batch_size):\n",
    "                train_neural_network(sess, optimizer, keep_probability, batch_features, batch_labels)\n",
    "            print('Epoch {:>2}, CIFAR-10 Batch {}:  '.format(epoch + 1, batch_i), end='')\n",
    "            print_stats(sess, batch_features, batch_labels, cost, accuracy)\n",
    "            \n",
    "    # Save Model\n",
    "    saver = tf.train.Saver()\n",
    "    save_path = saver.save(sess, save_model_path)"
   ]
  },
  {
   "cell_type": "markdown",
   "metadata": {},
   "source": [
    "# Checkpoint\n",
    "The model has been saved to disk.\n",
    "## Test Model\n",
    "Test your model against the test dataset.  This will be your final accuracy. You should have an accuracy greater than 50%. If you don't, keep tweaking the model architecture and parameters."
   ]
  },
  {
   "cell_type": "code",
   "execution_count": 19,
   "metadata": {},
   "outputs": [
    {
     "name": "stdout",
     "output_type": "stream",
     "text": [
      "testing\n",
      "INFO:tensorflow:Restoring parameters from ./image_classification\n",
      "Testing Accuracy: 0.7457835465669632\n",
      "\n"
     ]
    },
    {
     "data": {
      "image/png": "[encoded data removed]",
      "text/plain": [
       "<matplotlib.figure.Figure at 0x7f8b061ec358>"
      ]
     },
     "metadata": {
      "image/png": {
       "height": 319,
       "width": 355
      }
     },
     "output_type": "display_data"
    }
   ],
   "source": [
    "\"\"\"\n",
    "DON'T MODIFY ANYTHING IN THIS CELL\n",
    "\"\"\"\n",
    "%matplotlib inline\n",
    "%config InlineBackend.figure_format = 'retina'\n",
    "\n",
    "import tensorflow as tf\n",
    "import pickle\n",
    "import helper\n",
    "import random\n",
    "\n",
    "# Set batch size if not already set\n",
    "try:\n",
    "    if batch_size:\n",
    "        pass\n",
    "except NameError:\n",
    "    batch_size = 64\n",
    "\n",
    "save_model_path = './image_classification'\n",
    "n_samples = 4\n",
    "top_n_predictions = 3\n",
    "\n",
    "def test_model():\n",
    "    \"\"\"\n",
    "    Test the saved model against the test dataset\n",
    "    \"\"\"\n",
    "\n",
    "    test_features, test_labels = pickle.load(open('preprocess_training.p', mode='rb'))\n",
    "    loaded_graph = tf.Graph()\n",
    "    print(\"testing\")\n",
    "    with tf.Session(graph=loaded_graph) as sess:\n",
    "        # Load model\n",
    "        loader = tf.train.import_meta_graph(save_model_path + '.meta')\n",
    "        loader.restore(sess, save_model_path)\n",
    "\n",
    "        # Get Tensors from loaded model\n",
    "        loaded_x = loaded_graph.get_tensor_by_name('x:0')\n",
    "        loaded_y = loaded_graph.get_tensor_by_name('y:0')\n",
    "        loaded_keep_prob = loaded_graph.get_tensor_by_name('keep_prob:0')\n",
    "        loaded_logits = loaded_graph.get_tensor_by_name('logits:0')\n",
    "        loaded_acc = loaded_graph.get_tensor_by_name('accuracy:0')\n",
    "        \n",
    "        # Get accuracy in batches for memory limitations\n",
    "        test_batch_acc_total = 0\n",
    "        test_batch_count = 0\n",
    "        \n",
    "        for test_feature_batch, test_label_batch in helper.batch_features_labels(test_features, test_labels, batch_size):\n",
    "            test_batch_acc_total += sess.run(\n",
    "                loaded_acc,\n",
    "                feed_dict={loaded_x: test_feature_batch, loaded_y: test_label_batch, loaded_keep_prob: 1.0})\n",
    "            test_batch_count += 1\n",
    "\n",
    "        print('Testing Accuracy: {}\\n'.format(test_batch_acc_total/test_batch_count))\n",
    "\n",
    "        # Print Random Samples\n",
    "        random_test_features, random_test_labels = tuple(zip(*random.sample(list(zip(test_features, test_labels)), n_samples)))\n",
    "        random_test_predictions = sess.run(\n",
    "            tf.nn.top_k(tf.nn.softmax(loaded_logits), top_n_predictions),\n",
    "            feed_dict={loaded_x: random_test_features, loaded_y: random_test_labels, loaded_keep_prob: 1.0})\n",
    "        helper.display_image_predictions(random_test_features, random_test_labels, random_test_predictions)\n",
    "\n",
    "\n",
    "test_model()"
   ]
  },
  {
   "cell_type": "markdown",
   "metadata": {},
   "source": [
    "## Why 50-80% Accuracy?\n",
    "You might be wondering why you can't get an accuracy any higher. First things first, 50% isn't bad for a simple CNN.  Pure guessing would get you 10% accuracy. However, you might notice people are getting scores [well above 80%](http://rodrigob.github.io/are_we_there_yet/build/classification_datasets_results.html#43494641522d3130).  That's because we haven't taught you all there is to know about neural networks. We still need to cover a few more techniques.\n",
    "## Submitting This Project\n",
    "When submitting this project, make sure to run all the cells before saving the notebook.  Save the notebook file as \"dlnd_image_classification.ipynb\" and save it as a HTML file under \"File\" -> \"Download as\".  Include the \"helper.py\" and \"problem_unittests.py\" files in your submission."
   ]
  }
 ],
 "metadata": {
  "kernelspec": {
   "display_name": "Python 3",
   "language": "python",
   "name": "python3"
  },
  "language_info": {
   "codemirror_mode": {
    "name": "ipython",
    "version": 3
   },
   "file_extension": ".py",
   "mimetype": "text/x-python",
   "name": "python",
   "nbconvert_exporter": "python",
   "pygments_lexer": "ipython3",
   "version": "3.5.3"
  }
 },
 "nbformat": 4,
 "nbformat_minor": 1
}
